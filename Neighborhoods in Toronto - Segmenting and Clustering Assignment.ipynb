{
 "cells": [
  {
   "cell_type": "markdown",
   "id": "minute-compression",
   "metadata": {},
   "source": [
    "Neighborhoods in Toronto - Segmenting and Clustering Assignment\n",
    "\n",
    "Author: Panagiotis Sidiropoulos"
   ]
  },
  {
   "cell_type": "code",
   "execution_count": null,
   "id": "dying-alabama",
   "metadata": {},
   "outputs": [],
   "source": [
    "#!conda update --all\n",
    "#print('libs have been updated')\n",
    "\n",
    "import numpy as np\n",
    "import pandas as pd\n",
    "pd.set_option('display.max_columns',None)\n",
    "pd.set_option('display.max_rows',None)\n",
    "import json\n",
    "\n",
    "#!conda install -c conda-forge geopy --yes\n",
    "from geopy.geocoders import Nominatim\n",
    "import requests\n",
    "from pandas.io.json import json_normalize\n",
    "import matplotlib.cm as cm\n",
    "import matplotlib.colors as colors\n",
    "from sklearn.cluster import KMeans\n",
    "#!conda install -c conda-forge folium=0.5.0 --yes\n",
    "import folium\n",
    "from bs4 import BeautifulSoup\n",
    "import requests\n",
    "print('import step done!')"
   ]
  },
  {
   "cell_type": "markdown",
   "id": "favorite-gauge",
   "metadata": {},
   "source": [
    "Having imported all needed libraries, I utilize the BeautifulSoup library to extract the data from the given url for Toronto"
   ]
  },
  {
   "cell_type": "code",
   "execution_count": null,
   "id": "olympic-rochester",
   "metadata": {},
   "outputs": [],
   "source": [
    "url = 'https://en.wikipedia.org/wiki/List_of_postal_codes_of_Canada:_M'\n",
    "r = requests.get(url).text\n",
    "soup = BeautifulSoup(r,'html5lib')\n",
    "tbl = soup.find_all('table')\n",
    "tbl_rows = soup.find_all('tr')\n",
    "tbl_el = soup.find_all('td')"
   ]
  },
  {
   "cell_type": "markdown",
   "id": "presidential-carbon",
   "metadata": {},
   "source": [
    "I create the dataframe, with 3 columns as asked. Then I drop the first row as it contained the headers.\n",
    "I form another table which drops rows that the Borough is not assigned. Likewise, I assign each Neighborhood value to Borough's value if it's not assigned.\n",
    "Finally I reset Index as I have dropped many rows."
   ]
  },
  {
   "cell_type": "code",
   "execution_count": null,
   "id": "worthy-greensboro",
   "metadata": {
    "scrolled": false
   },
   "outputs": [],
   "source": [
    "import pandas as pd\n",
    "\n",
    "data_table = pd.read_html(str(tbl), flavor = 'bs4')[0]\n",
    "data_table.columns = ['Postal Code', 'Borough', 'Neighborhood']\n",
    "data_table = data_table[1:]\n",
    "tbl_tor = data_table[~(data_table['Borough'] == 'Not assigned')]\n",
    "\n",
    "for i,place in enumerate(tbl_tor['Neighborhood']):\n",
    "    if (place == 'Not assigned'):\n",
    "        tbl_tor['Neighborhood'] = tbl_tor['Borough']\n",
    "\n",
    "tbl_tor.reset_index(drop=True, inplace=True)"
   ]
  },
  {
   "cell_type": "code",
   "execution_count": null,
   "id": "determined-helen",
   "metadata": {},
   "outputs": [],
   "source": [
    "tbl_tor.shape"
   ]
  }
 ],
 "metadata": {
  "kernelspec": {
   "display_name": "Python 3",
   "language": "python",
   "name": "python3"
  },
  "language_info": {
   "codemirror_mode": {
    "name": "ipython",
    "version": 3
   },
   "file_extension": ".py",
   "mimetype": "text/x-python",
   "name": "python",
   "nbconvert_exporter": "python",
   "pygments_lexer": "ipython3",
   "version": "3.6.12"
  }
 },
 "nbformat": 4,
 "nbformat_minor": 5
}
