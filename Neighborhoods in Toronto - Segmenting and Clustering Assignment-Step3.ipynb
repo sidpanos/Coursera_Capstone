{
 "cells": [
  {
   "cell_type": "markdown",
   "id": "minute-compression",
   "metadata": {},
   "source": [
    "Neighborhoods in Toronto - Segmenting and Clustering Assignment\n",
    "\n",
    "Author: Panagiotis Sidiropoulos"
   ]
  },
  {
   "cell_type": "code",
   "execution_count": null,
   "id": "dying-alabama",
   "metadata": {},
   "outputs": [],
   "source": [
    "#!conda update --all\n",
    "#print('libs have been updated')\n",
    "\n",
    "import numpy as np\n",
    "import pandas as pd\n",
    "pd.set_option('display.max_columns',None)\n",
    "pd.set_option('display.max_rows',None)\n",
    "import json\n",
    "\n",
    "#!conda install -c conda-forge geopy --yes\n",
    "from geopy.geocoders import Nominatim\n",
    "import requests\n",
    "from pandas.io.json import json_normalize\n",
    "import matplotlib.cm as cm\n",
    "import matplotlib.colors as colors\n",
    "from sklearn.cluster import KMeans\n",
    "#!conda install -c conda-forge folium=0.5.0 --yes\n",
    "import folium\n",
    "from bs4 import BeautifulSoup\n",
    "import requests\n",
    "print('import step done!')"
   ]
  },
  {
   "cell_type": "markdown",
   "id": "capable-continuity",
   "metadata": {},
   "source": [
    "Having imported all needed libraries, I utilize the BeautifulSoup library to extract the data from the given url for Toronto"
   ]
  },
  {
   "cell_type": "code",
   "execution_count": null,
   "id": "olympic-rochester",
   "metadata": {},
   "outputs": [],
   "source": [
    "#url = 'https://en.wikipedia.org/wiki/List_of_postal_codes_of_Canada:_M'\n",
    "url = 'https://en.wikipedia.org/w/index.php?title=List_of_postal_codes_of_Canada:_M&oldid=1011037969'\n",
    "r = requests.get(url).text\n",
    "soup = BeautifulSoup(r,'html5lib')\n",
    "tbl = soup.find_all('table')\n",
    "tbl_rows = soup.find_all('tr')\n",
    "tbl_el = soup.find_all('td')"
   ]
  },
  {
   "cell_type": "markdown",
   "id": "southern-samuel",
   "metadata": {},
   "source": [
    "I create the dataframe, with 3 columns as asked. Then I drop the first row as it contained the headers.\n",
    "I form another table which drops rows that the Borough is not assigned. Likewise, I assign each Neighborhood value to Borough's value if it's not assigned."
   ]
  },
  {
   "cell_type": "code",
   "execution_count": null,
   "id": "earlier-airfare",
   "metadata": {
    "scrolled": true
   },
   "outputs": [],
   "source": [
    "import pandas as pd\n",
    "\n",
    "data_table = pd.read_html(str(tbl), flavor = 'bs4')[0]\n",
    "data_table.columns = ['Postal Code', 'Borough', 'Neighborhood']\n",
    "data_table = data_table[1:]\n",
    "tbl_tor = data_table[~(data_table['Borough'] == 'Not assigned') | ~(data_table['Neighborhood'] == 'Not assigned')]\n",
    "#tbl_tor = data_table[~(data_table['Borough'] == 'Not assigned')]\n",
    "\n",
    "for i,place in enumerate(tbl_tor['Neighborhood']):\n",
    "    if (place == 'Not assigned'):\n",
    "        tbl_tor['Neighborhood'] = tbl_tor['Borough']\n",
    "\n",
    "tbl_tor.reset_index(drop=True, inplace=True)"
   ]
  },
  {
   "cell_type": "code",
   "execution_count": null,
   "id": "noted-watershed",
   "metadata": {},
   "outputs": [],
   "source": [
    "tbl_tor.shape"
   ]
  },
  {
   "cell_type": "code",
   "execution_count": null,
   "id": "indonesian-registration",
   "metadata": {},
   "outputs": [],
   "source": [
    "!conda install -c conda-forge geopandas --yes\n",
    "!conda install -c conda-forge geopy --yes"
   ]
  },
  {
   "cell_type": "markdown",
   "id": "religious-rogers",
   "metadata": {},
   "source": [
    "Step 2: Get Coordinates from google API"
   ]
  },
  {
   "cell_type": "code",
   "execution_count": null,
   "id": "executed-football",
   "metadata": {},
   "outputs": [],
   "source": [
    "import geopy\n",
    "import geopandas\n",
    "\n",
    "locator = Nominatim(user_agent=\"myGeocoder\")\n",
    "\n",
    "for i,place in enumerate(tbl_tor['Neighborhood']):\n",
    "    location = locator.geocode(place)\n",
    "    while(location!=None):\n",
    "        print(location)\n",
    "    #print(location.latitude, location.longitude)\n",
    "    #tbl_tor.loc[i,'Latitude'] = location.latitude\n",
    "    #tbl_tor.loc[i,'Longitude'] = location.longitude"
   ]
  },
  {
   "cell_type": "markdown",
   "id": "configured-basement",
   "metadata": {},
   "source": [
    "I saw that the assignment of coordinates is done wrongfully, therefore I joined my basic table with coordinates given in a dataframe in the instructions"
   ]
  },
  {
   "cell_type": "code",
   "execution_count": null,
   "id": "greater-interface",
   "metadata": {},
   "outputs": [],
   "source": [
    "coor = pd.read_csv('C:/Users/sidpa/Desktop/Geospatial_Coordinates.csv')\n",
    "tbl_tor = pd.merge(tbl_tor, coor, left_on='Postal Code', right_on='Postal Code', how='left')"
   ]
  },
  {
   "cell_type": "code",
   "execution_count": null,
   "id": "incorporated-airline",
   "metadata": {},
   "outputs": [],
   "source": [
    "tbl_tor_cluster = tbl_tor[tbl_tor['Borough'].str.contains('Toronto')]"
   ]
  },
  {
   "cell_type": "code",
   "execution_count": null,
   "id": "decent-defendant",
   "metadata": {},
   "outputs": [],
   "source": [
    "!conda install -c conda-forge folium --yes"
   ]
  },
  {
   "cell_type": "code",
   "execution_count": null,
   "id": "american-checkout",
   "metadata": {},
   "outputs": [],
   "source": [
    "tbl_tor_cluster"
   ]
  },
  {
   "cell_type": "code",
   "execution_count": null,
   "id": "italian-watershed",
   "metadata": {
    "scrolled": true
   },
   "outputs": [],
   "source": [
    "import folium\n",
    "\n",
    "initial_lat = 43.687840\n",
    "initial_lng = -79.547860\n",
    "toronto_map = folium.Map(location=[initial_lat,initial_lng],zoom_start=15)\n",
    "\n",
    "for lat,lng,label in zip(tbl_tor_cluster['Latitude'],tbl_tor_cluster['Longitude'],tbl_tor_cluster['Neighborhood']):\n",
    "    label = folium.Popup(label,parse_html=True)\n",
    "    folium.CircleMarker([lat,lng],\n",
    "                        radius=5,\n",
    "                        popup=label,\n",
    "                        color='blue',\n",
    "                        fill=True,\n",
    "                        fill_color='#3186cc',\n",
    "                        fill_opacity=0.7,\n",
    "                        parse_html=False).add_to(toronto_map)\n",
    "    \n",
    "toronto_map\n"
   ]
  },
  {
   "cell_type": "markdown",
   "id": "nearby-wednesday",
   "metadata": {},
   "source": [
    "Get Nearby Venues from Foursquare."
   ]
  },
  {
   "cell_type": "code",
   "execution_count": null,
   "id": "saved-death",
   "metadata": {},
   "outputs": [],
   "source": [
    "CLIENT_ID = '***'\n",
    "CLIENT_SECRET = '***'\n",
    "VERSION = '20190425' #'20180605' \n",
    "LIMIT = '100'\n",
    "import json"
   ]
  },
  {
   "cell_type": "code",
   "execution_count": null,
   "id": "valued-beauty",
   "metadata": {},
   "outputs": [],
   "source": [
    "def getVenues(names, latitudes, longitudes, radius=500):\n",
    "    \n",
    "    venues_list = []\n",
    "    for name,lat,lng in zip(names, latitudes, longitudes):\n",
    "        url = 'https://api.foursquare.com/v2/venues/explore?&client_id={}&client_secret={}&v={}&ll={},{},&radius={}&limit={}'.format(\n",
    "        CLIENT_ID,CLIENT_SECRET,VERSION,latitudes,longitudes,radius,LIMIT\n",
    "        )\n",
    "        \n",
    "        results = requests.get(url).json()[\"response\"]['groups'][0]['items']\n",
    "        \n",
    "        venues_list.append([(name,lat,lng,\n",
    "                             v['venue']['name'],\n",
    "                             v['venue']['location']['lat'],\n",
    "                             v['venue']['location']['lng'],\n",
    "                             v['venue']['categories'][0]['name']) for v in results])\n",
    "        \n",
    "        nearby_venues = pd.DataFrame([item for venue_list in venues_list for item in venue_list])\n",
    "        nearby_venues.columns = ['Neighborhood', 'Neighborhood Latitude', 'Neighborhood Longitude', 'Venue',\n",
    "                                'Venue Latitude', 'Venue Longitude','Venue Category']\n",
    "        \n",
    "        return(nearby_venues)"
   ]
  },
  {
   "cell_type": "code",
   "execution_count": null,
   "id": "chubby-correspondence",
   "metadata": {},
   "outputs": [],
   "source": [
    "Toronto_venues = getVenues(names = tbl_tor_cluster['Neighborhood'], latitudes = tbl_tor_cluster['Latitude'], longitudes = tbl_tor_cluster['Longitude'])"
   ]
  },
  {
   "cell_type": "code",
   "execution_count": null,
   "id": "wired-limitation",
   "metadata": {},
   "outputs": [],
   "source": [
    "Toronto_venues\n"
   ]
  },
  {
   "cell_type": "markdown",
   "id": "foster-routine",
   "metadata": {},
   "source": [
    "Neighborhoods Analysis to Venues"
   ]
  },
  {
   "cell_type": "code",
   "execution_count": null,
   "id": "comparative-halloween",
   "metadata": {},
   "outputs": [],
   "source": [
    "toronto_onehot = pd.get_dummies(Toronto_venues[['Venue Category']],prefix = \"\", prefix_sep=\"\")\n",
    "toronto_onehot['Neighborhood'] = toronto_venues['Neighborhood']\n",
    "fixed_columns = [toronto_onehot.columns[-1]] + list(toronto_onehot.columns[:-1])\n",
    "toronto_onehot = toronto_onehot[fixed_columns]\n",
    "\n",
    "toronto_grouped = toronto_onehot.groupby('Neighborhood').mean().reset_index()"
   ]
  },
  {
   "cell_type": "markdown",
   "id": "canadian-cleveland",
   "metadata": {},
   "source": [
    "Cluster Analysis"
   ]
  },
  {
   "cell_type": "code",
   "execution_count": null,
   "id": "proud-bleeding",
   "metadata": {},
   "outputs": [],
   "source": [
    "kclusters = 5\n",
    "\n",
    "toronto_grouped_clustering = toronto_grouped.drop('Neighborhood', 1)\n",
    "\n",
    "# run k-means clustering\n",
    "kmeans = KMeans(n_clusters=kclusters, random_state=0).fit(toronto_grouped_clustering)\n",
    "\n",
    "# check cluster labels generated for each row in the dataframe\n",
    "kmeans.labels_[0:10] "
   ]
  },
  {
   "cell_type": "code",
   "execution_count": null,
   "id": "median-sussex",
   "metadata": {},
   "outputs": [],
   "source": [
    "neighborhoods_venues_sorted.insert(0, 'Cluster Labels', kmeans.labels_)\n",
    "\n",
    "toronto_merged = toronto_data\n",
    "toronto_merged = toronto_merged.join(neighborhoods_venues_sorted.set_index('Neighborhood'), on='Neighborhood')\n"
   ]
  },
  {
   "cell_type": "markdown",
   "id": "reliable-directive",
   "metadata": {},
   "source": [
    "Depict on the folium map"
   ]
  },
  {
   "cell_type": "code",
   "execution_count": null,
   "id": "every-employee",
   "metadata": {},
   "outputs": [],
   "source": [
    "# create map\n",
    "map_clusters = folium.Map(location=[latitude, longitude], zoom_start=11)\n",
    "\n",
    "# set color scheme for the clusters\n",
    "x = np.arange(kclusters)\n",
    "ys = [i + x + (i*x)**2 for i in range(kclusters)]\n",
    "colors_array = cm.rainbow(np.linspace(0, 1, len(ys)))\n",
    "rainbow = [colors.rgb2hex(i) for i in colors_array]\n",
    "\n",
    "# add markers to the map\n",
    "markers_colors = []\n",
    "for lat, lon, poi, cluster in zip(toronto_merged['Latitude'], toronto_merged['Longitude'], toronto_merged['Neighborhood'], toronto_merged['Cluster Labels']):\n",
    "    label = folium.Popup(str(poi) + ' Cluster ' + str(cluster), parse_html=True)\n",
    "    folium.CircleMarker(\n",
    "        [lat, lon],\n",
    "        radius=5,\n",
    "        popup=label,\n",
    "        color=rainbow[cluster-1],\n",
    "        fill=True,\n",
    "        fill_color=rainbow[cluster-1],\n",
    "        fill_opacity=0.7).add_to(map_clusters)\n",
    "       \n",
    "map_clusters"
   ]
  }
 ],
 "metadata": {
  "kernelspec": {
   "display_name": "Python 3",
   "language": "python",
   "name": "python3"
  },
  "language_info": {
   "codemirror_mode": {
    "name": "ipython",
    "version": 3
   },
   "file_extension": ".py",
   "mimetype": "text/x-python",
   "name": "python",
   "nbconvert_exporter": "python",
   "pygments_lexer": "ipython3",
   "version": "3.6.12"
  }
 },
 "nbformat": 4,
 "nbformat_minor": 5
}
