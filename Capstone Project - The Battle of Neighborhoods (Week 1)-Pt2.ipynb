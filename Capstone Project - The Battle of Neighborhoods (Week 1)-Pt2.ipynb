{
 "cells": [
  {
   "cell_type": "markdown",
   "id": "passive-horizon",
   "metadata": {},
   "source": [
    "<h3>This is a notebook dedicated to the first week of the final assignment of the Capstone Project - The Battle of Neighborhoods<h3>"
   ]
  },
  {
   "cell_type": "markdown",
   "id": "short-collins",
   "metadata": {},
   "source": [
    "<h3> 2. Data Description <h3/>"
   ]
  },
  {
   "cell_type": "markdown",
   "id": "velvet-warner",
   "metadata": {},
   "source": [
    "This business case has been drop-downed to its core elements:\n",
    "\n",
    "As presented above, the map of Thessaloniki has been splited into its boroughs, where Wikipedia and Google Maps have been used as a primary source. Each borough has 4 properties:\n",
    "- the municipal unit that it belongs\n",
    "- the longitude\n",
    "- the latitude\n",
    "- the approximately the number of inhabitants (as per population census of 2011)\n",
    "\n",
    "One drawback is that there is not so much data available, therefore I have to look into multiple sites to formulate the data tables.\n",
    "\n",
    "Secondly, I used Forsquare API to get the most common venues of given Borough of Thessaloniki.\n",
    "\n",
    "Lastlt, I used Google Map, ‘Search Nearby’ option to get the center coordinates of the each Borough as well as to compare to the given venues."
   ]
  }
 ],
 "metadata": {
  "kernelspec": {
   "display_name": "Python 3",
   "language": "python",
   "name": "python3"
  },
  "language_info": {
   "codemirror_mode": {
    "name": "ipython",
    "version": 3
   },
   "file_extension": ".py",
   "mimetype": "text/x-python",
   "name": "python",
   "nbconvert_exporter": "python",
   "pygments_lexer": "ipython3",
   "version": "3.6.12"
  }
 },
 "nbformat": 4,
 "nbformat_minor": 5
}
