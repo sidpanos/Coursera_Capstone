{
 "cells": [
  {
   "cell_type": "markdown",
   "id": "minute-compression",
   "metadata": {},
   "source": [
    "Neighborhoods in Toronto - Segmenting and Clustering Assignment\n",
    "\n",
    "Author: Panagiotis Sidiropoulos"
   ]
  },
  {
   "cell_type": "code",
   "execution_count": 1,
   "id": "dying-alabama",
   "metadata": {},
   "outputs": [
    {
     "name": "stderr",
     "output_type": "stream",
     "text": [
      "C:\\Users\\sidpa\\Anaconda3\\lib\\site-packages\\scipy\\__init__.py:115: UserWarning: Numpy 1.13.3 or above is required for this version of scipy (detected version 1.11.3)\n",
      "  UserWarning)\n"
     ]
    },
    {
     "name": "stdout",
     "output_type": "stream",
     "text": [
      "import step done!\n"
     ]
    }
   ],
   "source": [
    "#!conda update --all\n",
    "#print('libs have been updated')\n",
    "\n",
    "import numpy as np\n",
    "import pandas as pd\n",
    "pd.set_option('display.max_columns',None)\n",
    "pd.set_option('display.max_rows',None)\n",
    "import json\n",
    "\n",
    "#!conda install -c conda-forge geopy --yes\n",
    "from geopy.geocoders import Nominatim\n",
    "import requests\n",
    "from pandas.io.json import json_normalize\n",
    "import matplotlib.cm as cm\n",
    "import matplotlib.colors as colors\n",
    "from sklearn.cluster import KMeans\n",
    "#!conda install -c conda-forge folium=0.5.0 --yes\n",
    "import folium\n",
    "from bs4 import BeautifulSoup\n",
    "import requests\n",
    "print('import step done!')"
   ]
  },
  {
   "cell_type": "markdown",
   "id": "occupational-james",
   "metadata": {},
   "source": [
    "Having imported all needed libraries, I utilize the BeautifulSoup library to extract the data from the given url for Toronto"
   ]
  },
  {
   "cell_type": "code",
   "execution_count": 2,
   "id": "olympic-rochester",
   "metadata": {},
   "outputs": [],
   "source": [
    "url = 'https://en.wikipedia.org/wiki/List_of_postal_codes_of_Canada:_M'\n",
    "r = requests.get(url).text\n",
    "soup = BeautifulSoup(r,'html5lib')\n",
    "tbl = soup.find_all('table')\n",
    "tbl_rows = soup.find_all('tr')\n",
    "tbl_el = soup.find_all('td')"
   ]
  },
  {
   "cell_type": "markdown",
   "id": "headed-vocabulary",
   "metadata": {},
   "source": [
    "I create the dataframe, with 3 columns as asked. Then I drop the first row as it contained the headers.\n",
    "I form another table which drops rows that the Borough is not assigned. Likewise, I assign each Neighborhood value to Borough's value if it's not assigned.\n",
    "Finally I reset Index as I have dropped many rows."
   ]
  },
  {
   "cell_type": "code",
   "execution_count": 3,
   "id": "shared-symbol",
   "metadata": {
    "scrolled": false
   },
   "outputs": [],
   "source": [
    "import pandas as pd\n",
    "\n",
    "data_table = pd.read_html(str(tbl), flavor = 'bs4')[0]\n",
    "data_table.columns = ['Postal Code', 'Borough', 'Neighborhood']\n",
    "data_table = data_table[1:]\n",
    "tbl_tor = data_table[~(data_table['Borough'] == 'Not assigned')]\n",
    "\n",
    "for i,place in enumerate(tbl_tor['Neighborhood']):\n",
    "    if (place == 'Not assigned'):\n",
    "        tbl_tor['Neighborhood'] = tbl_tor['Borough']\n",
    "\n",
    "tbl_tor.reset_index(drop=True, inplace=True)"
   ]
  },
  {
   "cell_type": "code",
   "execution_count": 4,
   "id": "hollywood-provider",
   "metadata": {},
   "outputs": [
    {
     "data": {
      "text/plain": [
       "(103, 3)"
      ]
     },
     "execution_count": 4,
     "metadata": {},
     "output_type": "execute_result"
    }
   ],
   "source": [
    "tbl_tor.shape"
   ]
  },
  {
   "cell_type": "markdown",
   "id": "naval-resolution",
   "metadata": {},
   "source": [
    "Step 2: Import geopandas and geopy _\n",
    "        Append Latitude and Longitude to table."
   ]
  },
  {
   "cell_type": "code",
   "execution_count": 6,
   "id": "second-master",
   "metadata": {},
   "outputs": [
    {
     "name": "stdout",
     "output_type": "stream",
     "text": [
      "Collecting package metadata (repodata.json): ...working... done\n",
      "Solving environment: ...working... \n",
      "Warning: 8 possible package resolutions (only showing differing packages):\n",
      "  - https://repo.continuum.io/pkgs/main/win-64/conda-build-3.0.27-py36h309a530_0.tar.bz2/win-64::conda-build-3.0.27-py36h309a530_0, https://repo.continuum.io/pkgs/main/win-64/console_shortcut-0.1.1-h6bb2dd7_3.tar.bz2/win-64::console_shortcut-0.1.1-h6bb2dd7_3, https://repo.continuum.io/pkgs/main/win-64/wincertstore-0.2-py36h7fe50ca_0.tar.bz2/win-64::wincertstore-0.2-py36h7fe50ca_0\n",
      "  - defaults/win-64::conda-build-3.0.27-py36h309a530_0, https://repo.continuum.io/pkgs/main/win-64/console_shortcut-0.1.1-h6bb2dd7_3.tar.bz2/win-64::console_shortcut-0.1.1-h6bb2dd7_3, https://repo.continuum.io/pkgs/main/win-64/wincertstore-0.2-py36h7fe50ca_0.tar.bz2/win-64::wincertstore-0.2-py36h7fe50ca_0\n",
      "  - defaults/win-64::wincertstore-0.2-py36h7fe50ca_0, https://repo.continuum.io/pkgs/main/win-64/conda-build-3.0.27-py36h309a530_0.tar.bz2/win-64::conda-build-3.0.27-py36h309a530_0, https://repo.continuum.io/pkgs/main/win-64/console_shortcut-0.1.1-h6bb2dd7_3.tar.bz2/win-64::console_shortcut-0.1.1-h6bb2dd7_3\n",
      "  - defaults/win-64::conda-build-3.0.27-py36h309a530_0, defaults/win-64::wincertstore-0.2-py36h7fe50ca_0, https://repo.continuum.io/pkgs/main/win-64/console_shortcut-0.1.1-h6bb2dd7_3.tar.bz2/win-64::console_shortcut-0.1.1-h6bb2dd7_3\n",
      "  - defaults/win-64::console_shortcut-0.1.1-h6bb2dd7_3, defaults/win-64::wincertstore-0.2-py36h7fe50ca_0, https://repo.continuum.io/pkgs/main/win-64/conda-build-3.0.27-py36h309a530_0.tar.bz2/win-64::conda-build-3.0.27-py36h309a530_0\n",
      "  - defaults/win-64::conda-build-3.0.27-py36h309a530_0, defaults/win-64::console_shortcut-0.1.1-h6bb2dd7_3, defaults/win-64::wincertstore-0.2-py36h7fe50ca_0\n",
      "  - defaults/win-64::console_shortcut-0.1.1-h6bb2dd7_3, https://repo.continuum.io/pkgs/main/win-64/conda-build-3.0.27-py36h309a530_0.tar.bz2/win-64::conda-build-3.0.27-py36h309a530_0, https://repo.continuum.io/pkgs/main/win-64/wincertstore-0.2-py36h7fe50ca_0.tar.bz2/win-64::wincertstore-0.2-py36h7fe50ca_0\n",
      "  - defaults/win-64::conda-build-3.0.27-py36h309a530_0, defaults/win-64::console_shortcut-0.1.1-h6bb2dd7_3, https://repo.continuum.io/pkgs/main/win-64/wincertstore-0.2-py36h7fe50ca_0.tar.bz2/win-64::wincertstore-0.2-py36h7fe50ca_0done\n",
      "\n",
      "# All requested packages already installed.\n",
      "\n",
      "Collecting package metadata (repodata.json): ...working... done\n",
      "Solving environment: ...working... \n",
      "Warning: 8 possible package resolutions (only showing differing packages):\n",
      "  - https://repo.continuum.io/pkgs/main/win-64/conda-build-3.0.27-py36h309a530_0.tar.bz2/win-64::conda-build-3.0.27-py36h309a530_0, https://repo.continuum.io/pkgs/main/win-64/console_shortcut-0.1.1-h6bb2dd7_3.tar.bz2/win-64::console_shortcut-0.1.1-h6bb2dd7_3, https://repo.continuum.io/pkgs/main/win-64/wincertstore-0.2-py36h7fe50ca_0.tar.bz2/win-64::wincertstore-0.2-py36h7fe50ca_0\n",
      "  - defaults/win-64::conda-build-3.0.27-py36h309a530_0, https://repo.continuum.io/pkgs/main/win-64/console_shortcut-0.1.1-h6bb2dd7_3.tar.bz2/win-64::console_shortcut-0.1.1-h6bb2dd7_3, https://repo.continuum.io/pkgs/main/win-64/wincertstore-0.2-py36h7fe50ca_0.tar.bz2/win-64::wincertstore-0.2-py36h7fe50ca_0\n",
      "  - defaults/win-64::console_shortcut-0.1.1-h6bb2dd7_3, https://repo.continuum.io/pkgs/main/win-64/conda-build-3.0.27-py36h309a530_0.tar.bz2/win-64::conda-build-3.0.27-py36h309a530_0, https://repo.continuum.io/pkgs/main/win-64/wincertstore-0.2-py36h7fe50ca_0.tar.bz2/win-64::wincertstore-0.2-py36h7fe50ca_0\n",
      "  - defaults/win-64::conda-build-3.0.27-py36h309a530_0, defaults/win-64::console_shortcut-0.1.1-h6bb2dd7_3, https://repo.continuum.io/pkgs/main/win-64/wincertstore-0.2-py36h7fe50ca_0.tar.bz2/win-64::wincertstore-0.2-py36h7fe50ca_0\n",
      "  - defaults/win-64::console_shortcut-0.1.1-h6bb2dd7_3, defaults/win-64::wincertstore-0.2-py36h7fe50ca_0, https://repo.continuum.io/pkgs/main/win-64/conda-build-3.0.27-py36h309a530_0.tar.bz2/win-64::conda-build-3.0.27-py36h309a530_0\n",
      "  - defaults/win-64::conda-build-3.0.27-py36h309a530_0, defaults/win-64::console_shortcut-0.1.1-h6bb2dd7_3, defaults/win-64::wincertstore-0.2-py36h7fe50ca_0\n",
      "  - defaults/win-64::wincertstore-0.2-py36h7fe50ca_0, https://repo.continuum.io/pkgs/main/win-64/conda-build-3.0.27-py36h309a530_0.tar.bz2/win-64::conda-build-3.0.27-py36h309a530_0, https://repo.continuum.io/pkgs/main/win-64/console_shortcut-0.1.1-h6bb2dd7_3.tar.bz2/win-64::console_shortcut-0.1.1-h6bb2dd7_3\n",
      "  - defaults/win-64::conda-build-3.0.27-py36h309a530_0, defaults/win-64::wincertstore-0.2-py36h7fe50ca_0, https://repo.continuum.io/pkgs/main/win-64/console_shortcut-0.1.1-h6bb2dd7_3.tar.bz2/win-64::console_shortcut-0.1.1-h6bb2dd7_3done\n",
      "\n",
      "# All requested packages already installed.\n",
      "\n"
     ]
    }
   ],
   "source": [
    "!conda install -c conda-forge geopandas --yes\n",
    "!conda install -c conda-forge geopy --yes"
   ]
  },
  {
   "cell_type": "markdown",
   "id": "congressional-audio",
   "metadata": {},
   "source": [
    "Step 2: Get Coordinates from google API"
   ]
  },
  {
   "cell_type": "code",
   "execution_count": 7,
   "id": "listed-african",
   "metadata": {},
   "outputs": [],
   "source": [
    "import geopy\n",
    "import geopandas\n",
    "\n",
    "locator = Nominatim(user_agent=\"myGeocoder\")\n",
    "\n",
    "for i,place in enumerate(tbl_tor['Borough']):\n",
    "    location = locator.geocode(place)\n",
    "    tbl_tor.loc[i,'Latitude'] = location.latitude\n",
    "    tbl_tor.loc[i,'Longitude'] = location.longitude"
   ]
  },
  {
   "cell_type": "code",
   "execution_count": null,
   "id": "minimal-hotel",
   "metadata": {},
   "outputs": [],
   "source": []
  }
 ],
 "metadata": {
  "kernelspec": {
   "display_name": "Python 3",
   "language": "python",
   "name": "python3"
  },
  "language_info": {
   "codemirror_mode": {
    "name": "ipython",
    "version": 3
   },
   "file_extension": ".py",
   "mimetype": "text/x-python",
   "name": "python",
   "nbconvert_exporter": "python",
   "pygments_lexer": "ipython3",
   "version": "3.6.12"
  }
 },
 "nbformat": 4,
 "nbformat_minor": 5
}
